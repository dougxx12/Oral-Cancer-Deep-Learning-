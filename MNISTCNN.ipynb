{
 "cells": [
  {
   "cell_type": "code",
   "execution_count": 1,
   "metadata": {
    "collapsed": true
   },
   "outputs": [],
   "source": [
    "import os\n",
    "import sys\n",
    "from PIL import Image"
   ]
  },
  {
   "cell_type": "code",
   "execution_count": 40,
   "metadata": {
    "collapsed": true
   },
   "outputs": [],
   "source": [
    "def compressMe(file, directorytocheck, directorytostore,qual,verbose=False):\n",
    "\tfilepath = os.path.join(os.getcwd()+ \"\\\\\"+ directorytocheck, file)\n",
    "\toldsize = os.stat(filepath).st_size\n",
    "\tpicture = Image.open(filepath)\n",
    "\tdim = picture.size\n",
    "\t\n",
    "\t#set quality= to the preferred quality. \n",
    "\t#I found that 85 has no difference in my 6-10mb files and that 65 is the lowest reasonable number\n",
    "\tpicture.save(os.path.join(os.getcwd()+ \"\\\\\"+ directorytostore,\"Compressed_\"+file),\"JPEG\",optimize=True,quality=qual) \n",
    "\t\n",
    "\tnewsize = os.stat(os.path.join(os.getcwd()+ \"\\\\\"+ directorytostore,\"Compressed_\"+file)).st_size\n",
    "\tpercent = (oldsize-newsize)/float(oldsize)*100\n",
    "\tif (verbose):\n",
    "\t\tprint (\"File compressed from {0} to {1} or {2}%\".format(oldsize,newsize,percent))\n",
    "\treturn percent\n"
   ]
  },
  {
   "cell_type": "code",
   "execution_count": 41,
   "metadata": {
    "collapsed": true
   },
   "outputs": [],
   "source": [
    "def compressfiles(directorytocheck,directorytostore,quality):\n",
    "   \n",
    "    #finds present working dir\n",
    "    pwd = os.getcwd()+\"\\\\\"+ directorytocheck\n",
    "    tot = 0\n",
    "    num = 0\n",
    "    \n",
    "    for file in os.listdir(pwd):\n",
    "        if os.path.splitext(file)[1].lower() in ('.bmp'):\n",
    "            num += 1\n",
    "            tot += compressMe(file,directorytocheck,directorytostore,quality)\n",
    "    print (\"Average Compression: %d\" % (float(tot)/num))\n",
    "    print (\"Done\")"
   ]
  },
  {
   "cell_type": "code",
   "execution_count": 39,
   "metadata": {},
   "outputs": [],
   "source": [
    "Magnifications = [(\"85Xfiles\",85),(\"75Xfiles\",75),(\"65Xfiles\",65)]\n",
    "\n",
    "#for i,j in Magnifications:\n",
    "    #compressfiles(\"100Xfiles\",i,j)"
   ]
  },
  {
   "cell_type": "code",
   "execution_count": 9,
   "metadata": {},
   "outputs": [],
   "source": [
    "\n",
    "def rotate(degrees_to_rotate, saved_location,directorytocheck):\n",
    "    pwd = os.getcwd()+\"\\\\\"+ directorytocheck\n",
    "    for file in os.listdir(pwd):\n",
    "        filepath = os.path.join(os.getcwd()+ \"\\\\\"+ directorytocheck, file)\n",
    "        image_obj = Image.open(filepath)\n",
    "        rotated_image = image_obj.rotate(degrees_to_rotate)\n",
    "        rotated_image.save(os.path.join(os.getcwd()+ \"\\\\\"+ saved_location,\"Rotated\"+str(degrees_to_rotate) + file),\"JPEG\")\n",
    "       "
   ]
  },
  {
   "cell_type": "code",
   "execution_count": 10,
   "metadata": {},
   "outputs": [],
   "source": [
    "rotatedir = [\"85Xfiles\",\"75Xfiles\",\"65Xfiles\"]\n",
    "for i in rotatedir:\n",
    "    rotate(180,i,i)"
   ]
  },
  {
   "cell_type": "code",
   "execution_count": 38,
   "metadata": {},
   "outputs": [
    {
     "name": "stdout",
     "output_type": "stream",
     "text": [
      "Normal\n",
      "MD-CC\n",
      "MD-HC\n",
      "PD-CC\n",
      "PD-HC\n",
      "WD-CC\n",
      "WD-HC\n"
     ]
    }
   ],
   "source": [
    "import numpy as np\n",
    "Cancer_Table = []\n",
    "Labels  = [(\"Normal\",np.arange(2,26)),(\"MD-CC\",np.arange(26,51)),(\"MD-HC\",np.arange(51,76)),(\"PD-CC\",np.arange(76,101)),(\"PD-HC\",np.arange(101,126)),(\"WD-CC\",np.arange(126,151)),(\"WD-HC\",np.arange(151,176))]\n",
    "for i, j in Labels :\n",
    "    print (i)\n",
    "    pwd = os.getcwd()+\"\\\\\"+ \"85Xfiles\"\n",
    "    for file in os.listdir(pwd):\n",
    "        x = int(file.split(\"_\")[1].split(\".\")[0])\n",
    "        if x in j :\n",
    "            Cancer_Table.append((file,i))\n",
    "            \n",
    "                \n",
    "    "
   ]
  },
  {
   "cell_type": "code",
   "execution_count": 47,
   "metadata": {},
   "outputs": [
    {
     "name": "stdout",
     "output_type": "stream",
     "text": [
      "(3, 7, 7)\n"
     ]
    },
    {
     "data": {
      "image/png": "[encoded data removed]",
      "text/plain": [
       "<matplotlib.figure.Figure at 0x2b98afcacf8>"
      ]
     },
     "metadata": {},
     "output_type": "display_data"
    },
    {
     "data": {
      "text/plain": [
       "array([0, 0, 0, 1, 1, 1, 2, 2, 2])"
      ]
     },
     "execution_count": 47,
     "metadata": {},
     "output_type": "execute_result"
    }
   ],
   "source": [
    "ex_img = np.random.randint(0,255,size = (3,7,7))\n",
    "print(ex_img.shape)\n",
    "plt.imshow(ex_img[1])\n",
    "plt.show()\n",
    "np.tile(np.repeat(np.arange(3),3),3)"
   ]
  },
  {
   "cell_type": "code",
   "execution_count": null,
   "metadata": {
    "collapsed": true
   },
   "outputs": [],
   "source": []
  },
  {
   "cell_type": "markdown",
   "metadata": {},
   "source": [
    "An implementation of convoluation using a square kernel using numpy (in particular the fromFunction method in numpy) \n",
    "with conﬁgurable kernel size and stride on multi-channel images."
   ]
  },
  {
   "cell_type": "code",
   "execution_count": null,
   "metadata": {
    "collapsed": true
   },
   "outputs": [],
   "source": [
    "#convert image patch i.e receptive field to the columns   \n",
    "#input : Image , kernel size , stride , padding \n",
    "#output : Patches copied over all movements over the image [kernelsize * noofmovements](verticle and horizontal)\n",
    "def ConvertImagetoColumn(X,kernel_w,kernel_h,stride = 1, padding = 0):\n",
    "    Training_size , Channel_count, Img_H, Img_W = X.shape\n",
    "    #apply padding \n",
    "    X_padded = np.pad(X,((0,0),(0,0),(p,p),(p,p)),\"constant\") #tuple represent padding before and after in every dimension first 2 dimensions are training and channel\n",
    "    Output_W = ((Img_W - kernel_w + 2 * padding)/ stride )  + 1\n",
    "    Output_H = ((Img_H - kernel_h + 2 * padding)/ stride )  + 1\n",
    "    dummy  = np.tile(np.repeat(np.arange(kernel_h),kernel_w),Channel_count)\n",
    "    \n",
    "    "
   ]
  },
  {
   "cell_type": "code",
   "execution_count": 72,
   "metadata": {
    "collapsed": true
   },
   "outputs": [],
   "source": [
    "def get_im2col_indices(x_shape, field_height, field_width, padding=1, stride=1):\n",
    "    # First figure out what the size of the output should be\n",
    "    N, C, H, W = x_shape\n",
    "    assert (H + 2 * padding - field_height) % stride == 0\n",
    "    assert (W + 2 * padding - field_height) % stride == 0\n",
    "    out_height = (H + 2 * padding - field_height) // stride + 1\n",
    "    out_width = (W + 2 * padding - field_width) // stride + 1\n",
    "    i0 = np.repeat(np.arange(field_height), field_width)\n",
    "    i0 = np.tile(i0, C)\n",
    "    print(i0)\n",
    "    i1 = stride * np.repeat(np.arange(out_height), out_width)\n",
    "    j0 = np.tile(np.arange(field_width), field_height * C)\n",
    "    j1 = stride * np.tile(np.arange(out_width), out_height)\n",
    "    i = i0.reshape(-1, 1) + i1.reshape(1, -1)\n",
    "    j = j0.reshape(-1, 1) + j1.reshape(1, -1)\n",
    "\n",
    "    k = np.repeat(np.arange(C), field_height * field_width).reshape(-1, 1)\n",
    "    return k, i, j\n",
    "def im2col_indices(x, field_height, field_width, padding=1, stride=1):\n",
    "    \"\"\" An implementation of im2col based on some fancy indexing \"\"\"\n",
    "    # Zero-pad the input\n",
    "    p = padding\n",
    "    x_padded = np.pad(x, ((0, 0), (0, 0), (p, p), (p, p)), mode='constant')\n",
    "\n",
    "    k, i, j = get_im2col_indices(x.shape, field_height, field_width, padding,\n",
    "                                 stride)\n",
    "    print(k , \" _______\",  i, \"           _________\", j)\n",
    "    cols = x_padded[:, k, i, j]\n",
    "    C = x.shape[1]\n",
    "    cols = cols.transpose(1, 2, 0).reshape(field_height * field_width * C, -1)\n",
    "    return cols\n",
    "\n"
   ]
  },
  {
   "cell_type": "code",
   "execution_count": 73,
   "metadata": {},
   "outputs": [
    {
     "name": "stdout",
     "output_type": "stream",
     "text": [
      "[0 0 0 1 1 1 2 2 2 0 0 0 1 1 1 2 2 2 0 0 0 1 1 1 2 2 2]\n",
      "[[0]\n",
      " [0]\n",
      " [0]\n",
      " [0]\n",
      " [0]\n",
      " [0]\n",
      " [0]\n",
      " [0]\n",
      " [0]\n",
      " [1]\n",
      " [1]\n",
      " [1]\n",
      " [1]\n",
      " [1]\n",
      " [1]\n",
      " [1]\n",
      " [1]\n",
      " [1]\n",
      " [2]\n",
      " [2]\n",
      " [2]\n",
      " [2]\n",
      " [2]\n",
      " [2]\n",
      " [2]\n",
      " [2]\n",
      " [2]]  _______ [[0 0 0 1 1 1 2 2 2]\n",
      " [0 0 0 1 1 1 2 2 2]\n",
      " [0 0 0 1 1 1 2 2 2]\n",
      " [1 1 1 2 2 2 3 3 3]\n",
      " [1 1 1 2 2 2 3 3 3]\n",
      " [1 1 1 2 2 2 3 3 3]\n",
      " [2 2 2 3 3 3 4 4 4]\n",
      " [2 2 2 3 3 3 4 4 4]\n",
      " [2 2 2 3 3 3 4 4 4]\n",
      " [0 0 0 1 1 1 2 2 2]\n",
      " [0 0 0 1 1 1 2 2 2]\n",
      " [0 0 0 1 1 1 2 2 2]\n",
      " [1 1 1 2 2 2 3 3 3]\n",
      " [1 1 1 2 2 2 3 3 3]\n",
      " [1 1 1 2 2 2 3 3 3]\n",
      " [2 2 2 3 3 3 4 4 4]\n",
      " [2 2 2 3 3 3 4 4 4]\n",
      " [2 2 2 3 3 3 4 4 4]\n",
      " [0 0 0 1 1 1 2 2 2]\n",
      " [0 0 0 1 1 1 2 2 2]\n",
      " [0 0 0 1 1 1 2 2 2]\n",
      " [1 1 1 2 2 2 3 3 3]\n",
      " [1 1 1 2 2 2 3 3 3]\n",
      " [1 1 1 2 2 2 3 3 3]\n",
      " [2 2 2 3 3 3 4 4 4]\n",
      " [2 2 2 3 3 3 4 4 4]\n",
      " [2 2 2 3 3 3 4 4 4]]            _________ [[0 1 2 0 1 2 0 1 2]\n",
      " [1 2 3 1 2 3 1 2 3]\n",
      " [2 3 4 2 3 4 2 3 4]\n",
      " [0 1 2 0 1 2 0 1 2]\n",
      " [1 2 3 1 2 3 1 2 3]\n",
      " [2 3 4 2 3 4 2 3 4]\n",
      " [0 1 2 0 1 2 0 1 2]\n",
      " [1 2 3 1 2 3 1 2 3]\n",
      " [2 3 4 2 3 4 2 3 4]\n",
      " [0 1 2 0 1 2 0 1 2]\n",
      " [1 2 3 1 2 3 1 2 3]\n",
      " [2 3 4 2 3 4 2 3 4]\n",
      " [0 1 2 0 1 2 0 1 2]\n",
      " [1 2 3 1 2 3 1 2 3]\n",
      " [2 3 4 2 3 4 2 3 4]\n",
      " [0 1 2 0 1 2 0 1 2]\n",
      " [1 2 3 1 2 3 1 2 3]\n",
      " [2 3 4 2 3 4 2 3 4]\n",
      " [0 1 2 0 1 2 0 1 2]\n",
      " [1 2 3 1 2 3 1 2 3]\n",
      " [2 3 4 2 3 4 2 3 4]\n",
      " [0 1 2 0 1 2 0 1 2]\n",
      " [1 2 3 1 2 3 1 2 3]\n",
      " [2 3 4 2 3 4 2 3 4]\n",
      " [0 1 2 0 1 2 0 1 2]\n",
      " [1 2 3 1 2 3 1 2 3]\n",
      " [2 3 4 2 3 4 2 3 4]]\n"
     ]
    }
   ],
   "source": [
    "ex_img = np.random.randint(0,255,size = (1,3,5,5))\n",
    "cols = im2col_indices(ex_img,3,3,0,1)"
   ]
  },
  {
   "cell_type": "code",
   "execution_count": 61,
   "metadata": {},
   "outputs": [
    {
     "data": {
      "text/plain": [
       "(27, 9)"
      ]
     },
     "execution_count": 61,
     "metadata": {},
     "output_type": "execute_result"
    }
   ],
   "source": [
    "cols.shape"
   ]
  },
  {
   "cell_type": "code",
   "execution_count": null,
   "metadata": {
    "collapsed": true
   },
   "outputs": [],
   "source": []
  }
 ],
 "metadata": {
  "kernelspec": {
   "display_name": "Python 3",
   "language": "python",
   "name": "python3"
  },
  "language_info": {
   "codemirror_mode": {
    "name": "ipython",
    "version": 3
   },
   "file_extension": ".py",
   "mimetype": "text/x-python",
   "name": "python",
   "nbconvert_exporter": "python",
   "pygments_lexer": "ipython3",
   "version": "3.5.4"
  }
 },
 "nbformat": 4,
 "nbformat_minor": 2
}
