{
 "cells": [
  {
   "cell_type": "code",
   "execution_count": 2,
   "metadata": {
    "collapsed": true
   },
   "outputs": [],
   "source": [
    "import numpy as np\n",
    "import tensorflow as tf"
   ]
  },
  {
   "cell_type": "code",
   "execution_count": null,
   "metadata": {},
   "outputs": [],
   "source": [
    "\n",
    "\n",
    "class ResNet:\n",
    "    __name__ = \"ResNet\"\n",
    "\n",
    "    def __init__(self, batch_size=32):\n",
    "        self.model = tf.contrib.keras.applications.resnet50.ResNet50(include_top=False, weights='imagenet', pooling=\"avg\")\n",
    "        self.batch_size = batch_size\n",
    "        self.data_format =  tf.keras.backend.image_data_format()\n",
    "\n",
    "    def predict(self, x):\n",
    "        if self.data_format == \"channels_first\":\n",
    "            x = x.transpose(0, 3, 1, 2)\n",
    "        x = tf.contrib.keras.applications.resnet50.preprocess_input(x.astype(tf.keras.backend.floatx()))\n",
    "        return self.model.predict(x, batch_size=self.batch_size)\n",
    "\n",
    "\n",
    "class Inception:\n",
    "    __name__ = \"Inception\"\n",
    "\n",
    "    def __init__(self, batch_size=32):\n",
    "        self.model = InceptionV3(include_top=False, weights=\"imagenet\", pooling=\"avg\")\n",
    "        self.batch_size = batch_size\n",
    "        self.data_format = K.image_data_format()\n",
    "\n",
    "    def predict(self, x):\n",
    "        if self.data_format == \"channels_first\":\n",
    "            x = x.transpose(0, 3, 1, 2)\n",
    "        x = preprocess_inception(x.astype(K.floatx()))\n",
    "        return self.model.predict(x, batch_size=self.batch_size)\n",
    "\n",
    "\n",
    "class VGG:\n",
    "    __name__ = \"VGG\"\n",
    "\n",
    "    def __init__(self, batch_size=32):\n",
    "        model = VGG16(include_top=False, weights=\"imagenet\", pooling=\"avg\")\n",
    "        x2 = GlobalAveragePooling2D()(model.get_layer(\"block2_conv2\").output)  # 128\n",
    "        x3 = GlobalAveragePooling2D()(model.get_layer(\"block3_conv3\").output)  # 256\n",
    "        x4 = GlobalAveragePooling2D()(model.get_layer(\"block4_conv3\").output)  # 512\n",
    "        x5 = GlobalAveragePooling2D()(model.get_layer(\"block5_conv3\").output)  # 512\n",
    "        x = Concatenate()([x2, x3, x4, x5])\n",
    "        self.model = Model(inputs=model.input, outputs=x)\n",
    "        self.batch_size = batch_size\n",
    "        self.data_format = K.image_data_format()\n",
    "\n",
    "    def predict(self, x):\n",
    "        if self.data_format == \"channels_first\":\n",
    "            x = x.transpose(0, 3, 1, 2)\n",
    "        x = preprocess_vgg(x.astype(K.floatx()))\n",
    "        return self.model.predict(x, batch_size=self.batch_size)\n",
    "\n",
    "\n",
    "if __name__ == \"__main__\":\n",
    "    img_path = \"monkey.jpg\"\n",
    "    img = tf.contrib.keras.preprocessing.image.load_img(img_path, target_size=(299, 299))\n",
    "    x = tf.contrib.keras.preprocessing.image.img_to_array(img)\n",
    "    x = np.expand_dims(x, axis=0)\n",
    "    x = tf.contrib.keras.applications.resnet50.preprocess_input(x)\n",
    "    model = ResNet()\n",
    "    preds = model.predict(x)\n",
    "    # decode the results into a list of tuples (class, description, probability)\n",
    "    # (one such list for each sample in the batch)\n",
    "    print(\"Predicted:\", tf.contrib.keras.applications.resnet50.decode_predictions(preds, top=3)[0])\n",
    "# Predicted: [('n02504013', 'Indian_elephant', 0.78864819), ('n01871265', 'tusker', 0.029346621), ('n02504458', 'African_elephant', 0.01768155)]"
   ]
  },
  {
   "cell_type": "code",
   "execution_count": null,
   "metadata": {
    "collapsed": true
   },
   "outputs": [],
   "source": []
  }
 ],
 "metadata": {
  "kernelspec": {
   "display_name": "Python 3",
   "language": "python",
   "name": "python3"
  },
  "language_info": {
   "codemirror_mode": {
    "name": "ipython",
    "version": 3
   },
   "file_extension": ".py",
   "mimetype": "text/x-python",
   "name": "python",
   "nbconvert_exporter": "python",
   "pygments_lexer": "ipython3",
   "version": "3.5.4"
  }
 },
 "nbformat": 4,
 "nbformat_minor": 2
}
