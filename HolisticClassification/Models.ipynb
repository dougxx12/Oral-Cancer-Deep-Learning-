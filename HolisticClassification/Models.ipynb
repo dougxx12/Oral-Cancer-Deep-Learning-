{
 "cells": [
  {
   "cell_type": "code",
   "execution_count": 1,
   "metadata": {
    "collapsed": true
   },
   "outputs": [],
   "source": []
  },
  {
   "cell_type": "code",
   "execution_count": 16,
   "metadata": {},
   "outputs": [
    {
     "name": "stdout",
     "output_type": "stream",
     "text": [
      "(1, 224, 224, 3)\n",
      "Downloading data from https://github.com/fchollet/deep-learning-models/releases/download/v0.7/inception_resnet_v2_weights_tf_dim_ordering_tf_kernels.h5\n",
      "225214464/225209952 [==============================]225214464/225209952 [==============================] - 577s 3us/step\n",
      "\n",
      "(1, 1000)\n",
      "Predicted: [('n03729826', 'matchstick', 0.0091390349), ('n01930112', 'nematode', 0.0062328656), ('n07892512', 'red_wine', 0.0056857006), ('n03196217', 'digital_clock', 0.0056585362), ('n03666591', 'lighter', 0.0052683195)]\n"
     ]
    }
   ],
   "source": [
    "\n",
    "import numpy as np\n",
    "import tensorflow as tf\n",
    "class ResNet:\n",
    "    __name__ = \"ResNet\"\n",
    "\n",
    "    def __init__(self, batch_size=32):\n",
    "        self.model = tf.contrib.keras.applications.resnet50.ResNet50(include_top=True, weights='imagenet', pooling=\"avg\")\n",
    "        self.batch_size = batch_size\n",
    "        self.data_format =  tf.keras.backend.image_data_format()\n",
    "\n",
    "    def predict(self, x):\n",
    "        if self.data_format == \"channels_first\":\n",
    "            x = x.transpose(0, 3, 1, 2)\n",
    "        x = tf.contrib.keras.applications.resnet50.preprocess_input(x.astype(tf.keras.backend.floatx()))\n",
    "        return self.model.predict(x, batch_size=1)\n",
    "\n",
    "\n",
    "class Inception:\n",
    "    __name__ = \"Inception\"\n",
    "\n",
    "    def __init__(self, batch_size=32):\n",
    "        self.model = InceptionV3(include_top=False, weights=\"imagenet\", pooling=\"avg\")\n",
    "        self.batch_size = batch_size\n",
    "        self.data_format = K.image_data_format()\n",
    "\n",
    "    def predict(self, x):\n",
    "        if self.data_format == \"channels_first\":\n",
    "            x = x.transpose(0, 3, 1, 2)\n",
    "        x = preprocess_inception(x.astype(K.floatx()))\n",
    "        return self.model.predict(x, batch_size=self.batch_size)\n",
    "    \n",
    "class InceptionV3Resnet:\n",
    "    __name__ = \"Inception\"\n",
    "\n",
    "    def __init__(self, batch_size=32):\n",
    "        self.model =  tf.keras.applications.inception_resnet_v2.InceptionResNetV2(include_top=True, weights=\"imagenet\", pooling=\"avg\")\n",
    "        self.batch_size = batch_size\n",
    "        self.data_format = tf.keras.backend.image_data_format()\n",
    "\n",
    "    def predict(self, x):\n",
    "        if self.data_format == \"channels_first\":\n",
    "            x = x.transpose(0, 3, 1, 2)\n",
    "        x =  tf.keras.applications.inception_resnet_v2.preprocess_input(x.astype(tf.keras.backend.floatx()))\n",
    "        return self.model.predict(x, batch_size=self.batch_size)\n",
    "\n",
    "\n",
    "class VGG:\n",
    "    __name__ = \"VGG\"\n",
    "\n",
    "    def __init__(self, batch_size=32):\n",
    "        model = VGG16(include_top=False, weights=\"imagenet\", pooling=\"avg\")\n",
    "        x2 = GlobalAveragePooling2D()(model.get_layer(\"block2_conv2\").output)  # 128\n",
    "        x3 = GlobalAveragePooling2D()(model.get_layer(\"block3_conv3\").output)  # 256\n",
    "        x4 = GlobalAveragePooling2D()(model.get_layer(\"block4_conv3\").output)  # 512\n",
    "        x5 = GlobalAveragePooling2D()(model.get_layer(\"block5_conv3\").output)  # 512\n",
    "        x = Concatenate()([x2, x3, x4, x5])\n",
    "        self.model = Model(inputs=model.input, outputs=x)\n",
    "        self.batch_size = batch_size\n",
    "        self.data_format = K.image_data_format()\n",
    "\n",
    "    def predict(self, x):\n",
    "        if self.data_format == \"channels_first\":\n",
    "            x = x.transpose(0, 3, 1, 2)\n",
    "        x = preprocess_vgg(x.astype(K.floatx()))\n",
    "        return self.model.predict(x, batch_size=self.batch_size)\n",
    "\n",
    "\n",
    "if __name__ == \"__main__\":\n",
    "    img_path = \"snake.jpeg\"\n",
    "    img = tf.contrib.keras.preprocessing.image.load_img(img_path, target_size=(224, 224))\n",
    "    x = tf.contrib.keras.preprocessing.image.img_to_array(img)\n",
    "    x = np.expand_dims(x, axis=0)\n",
    "    print(x.shape)\n",
    "    x =  tf.keras.applications.inception_resnet_v2.preprocess_input(x)\n",
    "    model = InceptionV3Resnet()\n",
    "    preds = model.predict(x)\n",
    "    print(preds.shape)\n",
    "    # decode the results into a list of tuples (class, description, probability)\n",
    "    # (one such list for each sample in the batch)\n",
    "    print(\"Predicted:\",  tf.keras.applications.inception_resnet_v2.decode_predictions(preds, top=5)[0])\n",
    "# Predicted: [('n02504013', 'Indian_elephant', 0.78864819), ('n01871265', 'tusker', 0.029346621), ('n02504458', 'African_elephant', 0.01768155)]"
   ]
  },
  {
   "cell_type": "code",
   "execution_count": null,
   "metadata": {
    "collapsed": true
   },
   "outputs": [],
   "source": []
  }
 ],
 "metadata": {
  "kernelspec": {
   "display_name": "Python 3",
   "language": "python",
   "name": "python3"
  },
  "language_info": {
   "codemirror_mode": {
    "name": "ipython",
    "version": 3
   },
   "file_extension": ".py",
   "mimetype": "text/x-python",
   "name": "python",
   "nbconvert_exporter": "python",
   "pygments_lexer": "ipython3",
   "version": "3.5.4"
  }
 },
 "nbformat": 4,
 "nbformat_minor": 2
}
